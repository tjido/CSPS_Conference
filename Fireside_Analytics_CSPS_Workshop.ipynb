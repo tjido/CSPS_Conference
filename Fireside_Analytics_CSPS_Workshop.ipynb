{
  "nbformat": 4,
  "nbformat_minor": 0,
  "metadata": {
    "celltoolbar": "Slideshow",
    "kernelspec": {
      "display_name": "Python 3.6",
      "language": "python",
      "name": "python3"
    },
    "language_info": {
      "codemirror_mode": {
        "name": "ipython",
        "version": 3
      },
      "file_extension": ".py",
      "mimetype": "text/x-python",
      "name": "python",
      "nbconvert_exporter": "python",
      "pygments_lexer": "ipython3",
      "version": "3.6.9"
    },
    "colab": {
      "name": "Fireside Analytics_CSPS Workshop.ipynb",
      "provenance": [],
      "collapsed_sections": [],
      "toc_visible": true,
      "include_colab_link": true
    }
  },
  "cells": [
    {
      "cell_type": "markdown",
      "metadata": {
        "id": "view-in-github",
        "colab_type": "text"
      },
      "source": [
        "<a href=\"https://colab.research.google.com/github/tjido/CSPS_Conference/blob/master/Fireside_Analytics_CSPS_Workshop.ipynb\" target=\"_parent\"><img src=\"https://colab.research.google.com/assets/colab-badge.svg\" alt=\"Open In Colab\"/></a>"
      ]
    },
    {
      "cell_type": "markdown",
      "metadata": {
        "id": "hTUpGjrXRrPD",
        "colab_type": "text"
      },
      "source": [
        "# Fireside Analytics_CSPS Workshop"
      ]
    },
    {
      "cell_type": "markdown",
      "metadata": {
        "id": "6q335toNRrPF",
        "colab_type": "text"
      },
      "source": [
        "<h1>Fireside Analytics Tutorial - CSPS Data Conference</h1>\n",
        "\n",
        "\n",
        "<h4>Data science is the process of ethically acquiring, engineering, analyzing, visualizaing and ultimately, creating value with data.\n",
        "\n",
        "<p>In this tutorial, participants will gain experience analyzing a data set in a Python cloud environment using Jupiter notebook in Google Colab.</p> </h4>\n",
        "<p>For more information about this tutorial or other tutorials by Fireside Analytics, contact: info@firesideanalytics.com</p>\n",
        "\n",
        "<h4>Table of contents</h4>\n",
        "<div class=\"alert alert-block alert-info\" style=\"margin-top: 20px\">\n",
        "    <ol>\n",
        "        <li>Ethically acquire data</li>\n",
        "        <Li>Engineer data</li>\n",
        "        <li>Analyze data</li>\n",
        "        <li>Visualize data</li>\n",
        "        <li>Derive value from data</li>\n",
        "    </ol>\n",
        "</div>\n",
        "<br>\n",
        "<hr>"
      ]
    },
    {
      "cell_type": "markdown",
      "metadata": {
        "id": "EC4QnPjS41xc",
        "colab_type": "text"
      },
      "source": [
        "# 1. Ethically acquire data"
      ]
    },
    {
      "cell_type": "markdown",
      "metadata": {
        "id": "rgDnpC-zc0kD",
        "colab_type": "text"
      },
      "source": [
        "## Note data privacy considerations\n",
        "\n",
        "1.   Collection\n",
        "2.   Retention\n",
        "3.   Use\n",
        "4.   Disclosure\n",
        "5.   Deletion\n",
        "\n",
        "Done - data was provided by the CSPS for this tutorial"
      ]
    },
    {
      "cell_type": "markdown",
      "metadata": {
        "id": "fX1ZV9H9RrPH",
        "colab_type": "text"
      },
      "source": [
        "# 2. Engineer data"
      ]
    },
    {
      "cell_type": "markdown",
      "metadata": {
        "id": "wuwMUpcaRrPI",
        "colab_type": "text"
      },
      "source": [
        "### Import the required packages \n",
        "### Import the data from Shingai's Githup repository: @Tjido"
      ]
    },
    {
      "cell_type": "code",
      "metadata": {
        "id": "cqv2SK8ZvFc1",
        "colab_type": "code",
        "colab": {}
      },
      "source": [
        "import pandas as pd\n",
        "import numpy as np\n",
        "import matplotlib.pyplot as plt\n",
        "import types\n",
        "import seaborn as sns\n",
        "import types\n",
        "\n",
        "from google.colab import files\n",
        "import pandas as pd\n",
        "\n"
      ],
      "execution_count": 0,
      "outputs": []
    },
    {
      "cell_type": "code",
      "metadata": {
        "id": "KUwFuXF5zFJG",
        "colab_type": "code",
        "colab": {}
      },
      "source": [
        "url = 'https://raw.githubusercontent.com/tjido/CSPS_Conference/master/CSPS%20Lab%20Data.csv?token=ABMNHO3SXO7U2DLS4WBXYSC6IYMIU'\n",
        "\n",
        "dataset = pd.read_csv(url)\n",
        "dataset\n"
      ],
      "execution_count": 0,
      "outputs": []
    },
    {
      "cell_type": "markdown",
      "metadata": {
        "id": "mLrr2IioRrPN",
        "colab_type": "text"
      },
      "source": [
        "# 3. Analyze data"
      ]
    },
    {
      "cell_type": "code",
      "metadata": {
        "id": "muIKVsI2RrPO",
        "colab_type": "code",
        "colab": {}
      },
      "source": [
        "# Size of the Dataset\n",
        "dataset.shape"
      ],
      "execution_count": 0,
      "outputs": []
    },
    {
      "cell_type": "markdown",
      "metadata": {
        "id": "BfWbp0k7RrPS",
        "colab_type": "text"
      },
      "source": [
        "### List the column names"
      ]
    },
    {
      "cell_type": "code",
      "metadata": {
        "id": "eOwm91A-RrPS",
        "colab_type": "code",
        "colab": {}
      },
      "source": [
        "dataset.columns"
      ],
      "execution_count": 0,
      "outputs": []
    },
    {
      "cell_type": "markdown",
      "metadata": {
        "id": "7oW33MoERrPY",
        "colab_type": "text"
      },
      "source": [
        "### Change column names "
      ]
    },
    {
      "cell_type": "markdown",
      "metadata": {
        "id": "2wX3Ov0xRrPZ",
        "colab_type": "text"
      },
      "source": [
        "Rename column names to make them more meaningful in an analysis or easier to work with in code."
      ]
    },
    {
      "cell_type": "code",
      "metadata": {
        "id": "MhJWqzW3RrPa",
        "colab_type": "code",
        "colab": {}
      },
      "source": [
        "dataset=dataset.rename(columns={'Other than English or French, in what languages are you fluent?':'Fluency other than Eng/Fre'})"
      ],
      "execution_count": 0,
      "outputs": []
    },
    {
      "cell_type": "code",
      "metadata": {
        "id": "MjJVlyAXRrPg",
        "colab_type": "code",
        "colab": {}
      },
      "source": [
        "dataset.columns"
      ],
      "execution_count": 0,
      "outputs": []
    },
    {
      "cell_type": "markdown",
      "metadata": {
        "id": "37ndPA_qRrPj",
        "colab_type": "text"
      },
      "source": [
        "### Explore data\n",
        "### Size: \n",
        "Attributes: 11 ---\n",
        "Observations: 5145\n",
        "\n",
        "### Attributes\n",
        "\n",
        "- SSID\n",
        "- Job Title\n",
        "- Fluency other than Eng/Fre\n",
        "- Professional designations\n",
        "- Industry-led certifications\n",
        "- Functional communities\n",
        "- Employee skills\n",
        "- Skill proficiency\n",
        "- LEARNING\n",
        "- id\n",
        "- Index1"
      ]
    },
    {
      "cell_type": "code",
      "metadata": {
        "id": "KCcx07X_RrPk",
        "colab_type": "code",
        "colab": {}
      },
      "source": [
        "dataset.count()"
      ],
      "execution_count": 0,
      "outputs": []
    },
    {
      "cell_type": "markdown",
      "metadata": {
        "id": "HhoxIAI3RrPn",
        "colab_type": "text"
      },
      "source": [
        "Out of the total 5145 records in the dataset, only the column SSID, ID and Index1 has non missing values. The rest of the columns have missing values. \n",
        "Now let's check the 'count' of unique values in these 3 columns (SSID, ID, Index1)"
      ]
    },
    {
      "cell_type": "code",
      "metadata": {
        "id": "jB9dmZ7GRrPo",
        "colab_type": "code",
        "colab": {}
      },
      "source": [
        "dataset['SSID'].nunique()"
      ],
      "execution_count": 0,
      "outputs": []
    },
    {
      "cell_type": "code",
      "metadata": {
        "id": "q3o1QdEWRrPr",
        "colab_type": "code",
        "colab": {}
      },
      "source": [
        "# The column 'id' does not contribute information to the dataset. So we may drop it\n",
        "# Once you run the following lines of code, if you re-run them, you will get an error message saying that the two columns do not exist. \n",
        "# This is because you would have dropped them already.\n",
        "dataset=dataset.drop(['id'],axis=1)"
      ],
      "execution_count": 0,
      "outputs": []
    },
    {
      "cell_type": "code",
      "metadata": {
        "id": "sQgGzrt8RrPu",
        "colab_type": "code",
        "colab": {}
      },
      "source": [
        "dataset.columns"
      ],
      "execution_count": 0,
      "outputs": []
    },
    {
      "cell_type": "markdown",
      "metadata": {
        "id": "rFVJ1vVNRrPx",
        "colab_type": "text"
      },
      "source": [
        "### Checking the datatypes for each column"
      ]
    },
    {
      "cell_type": "code",
      "metadata": {
        "id": "ZkjX8rODRrPx",
        "colab_type": "code",
        "colab": {}
      },
      "source": [
        "dataset.dtypes"
      ],
      "execution_count": 0,
      "outputs": []
    },
    {
      "cell_type": "markdown",
      "metadata": {
        "id": "wYf4Va5IRrP0",
        "colab_type": "text"
      },
      "source": [
        "###  Look at the dataset\n",
        "There are 5145 observations and 343 unique SSID in the dataset."
      ]
    },
    {
      "cell_type": "code",
      "metadata": {
        "id": "Tcr4OMZbRrP1",
        "colab_type": "code",
        "colab": {}
      },
      "source": [
        "dataset"
      ],
      "execution_count": 0,
      "outputs": []
    },
    {
      "cell_type": "markdown",
      "metadata": {
        "id": "KqT4_54f87lw",
        "colab_type": "text"
      },
      "source": [
        "### Make notes about the dataset\n",
        "There are potential duplicates e.g., R & RStudio may refer to the same skill set"
      ]
    },
    {
      "cell_type": "markdown",
      "metadata": {
        "id": "8OtoSXbdRrP5",
        "colab_type": "text"
      },
      "source": [
        "# 4. Visualize data"
      ]
    },
    {
      "cell_type": "markdown",
      "metadata": {
        "id": "OldE5zdcRrP6",
        "colab_type": "text"
      },
      "source": [
        "## Let's visualize the top skills among the employees"
      ]
    },
    {
      "cell_type": "code",
      "metadata": {
        "id": "fL7GFDGlRrP7",
        "colab_type": "code",
        "colab": {}
      },
      "source": [
        "a=dataset['Employee skills'].value_counts()#.sort_values(ascending=0)[:10]\n",
        "b=a.head(20).plot(kind='bar', figsize=(25,8), title=\"The top 20 skills employees\", color='green')\n",
        "b.set_xlabel(\"Skills\", fontsize=20)\n",
        "b.set_ylabel(\"Frequency\", fontsize=20)"
      ],
      "execution_count": 0,
      "outputs": []
    },
    {
      "cell_type": "markdown",
      "metadata": {
        "id": "5sjzap-uRrP-",
        "colab_type": "text"
      },
      "source": [
        "## Let's visualize the skills that are less common among the employees"
      ]
    },
    {
      "cell_type": "code",
      "metadata": {
        "id": "hMbLyrkNRrP_",
        "colab_type": "code",
        "colab": {}
      },
      "source": [
        "c=a.tail(20).plot(kind='bar', figsize=(18,5), title=\"20 skills that are less common among employees\", color='orange')\n",
        "c.set_xlabel(\"Skills\", fontsize=20)\n",
        "c.set_ylabel(\"Frequency\", fontsize=20)"
      ],
      "execution_count": 0,
      "outputs": []
    },
    {
      "cell_type": "markdown",
      "metadata": {
        "id": "SKvbQQVZRrQB",
        "colab_type": "text"
      },
      "source": [
        "## Let's look at the level of proficiency for various skills possessed by employees"
      ]
    },
    {
      "cell_type": "code",
      "metadata": {
        "id": "b5gJahJ0RrQC",
        "colab_type": "code",
        "colab": {}
      },
      "source": [
        "crosstab1=pd.crosstab(dataset['Employee skills'], dataset['Skill proficiency'])\n",
        "crosstab1"
      ],
      "execution_count": 0,
      "outputs": []
    },
    {
      "cell_type": "markdown",
      "metadata": {
        "id": "HnEcICJCRrQF",
        "colab_type": "text"
      },
      "source": [
        "Let's look at the skills that are mastered at \"Lead\" level of proficiency by employees "
      ]
    },
    {
      "cell_type": "code",
      "metadata": {
        "id": "bf1uPhBbRrQF",
        "colab_type": "code",
        "colab": {},
        "cellView": "form"
      },
      "source": [
        "#@title\n",
        "sorted_ct=pd.DataFrame(crosstab1.sort_values(by = ['Lead','Advanced','Intermediate', 'Basic'], ascending = [False,False,False,False]))\n",
        "sorted_ct.head(10).plot(kind=\"bar\", figsize=(25,8), title=\"The top 10 skills with Lead proficiency\", fontsize=15) \n"
      ],
      "execution_count": 0,
      "outputs": []
    },
    {
      "cell_type": "markdown",
      "metadata": {
        "id": "0bWBBcN8RrQJ",
        "colab_type": "text"
      },
      "source": [
        "## Make notes about observations\n",
        "As most of the skills acquired by employees are at \"Advanced Level\" of proficiency. This shows the employees positive attitude to master a skill before learning the next skill."
      ]
    },
    {
      "cell_type": "code",
      "metadata": {
        "id": "ElbQ2dq-RrQK",
        "colab_type": "code",
        "colab": {}
      },
      "source": [
        "dataset['Skill proficiency'].value_counts()"
      ],
      "execution_count": 0,
      "outputs": []
    },
    {
      "cell_type": "markdown",
      "metadata": {
        "id": "gwAd0yG5RrQO",
        "colab_type": "text"
      },
      "source": [
        "## Let's see popular 'learning' skills among employees"
      ]
    },
    {
      "cell_type": "code",
      "metadata": {
        "id": "XPZ6gp2bRrQQ",
        "colab_type": "code",
        "colab": {}
      },
      "source": [
        "d = dataset['LEARNING'].value_counts()#.sort_values(ascending=0)[:10]\n",
        "e=d.head(10).plot(kind='bar', figsize=(25,8), title=\"Most Popular Learning Among Employees\", color='red')\n",
        "e.set_xlabel(\"Learning\", fontsize=20)\n",
        "e.set_ylabel(\"Frequency\", fontsize=20)"
      ],
      "execution_count": 0,
      "outputs": []
    },
    {
      "cell_type": "markdown",
      "metadata": {
        "id": "pYP9LIXoRrQT",
        "colab_type": "text"
      },
      "source": [
        "## Make notes about observations\n",
        "The dataset shows more than 25 employees are learning about Leadership and Innovation."
      ]
    },
    {
      "cell_type": "markdown",
      "metadata": {
        "id": "eDuW6NIbRrQU",
        "colab_type": "text"
      },
      "source": [
        "## Languages spoken by employees other than English and French\n"
      ]
    },
    {
      "cell_type": "code",
      "metadata": {
        "id": "MPxoO8H5RrQV",
        "colab_type": "code",
        "colab": {}
      },
      "source": [
        "dataset['Fluency other than Eng/Fre'].value_counts()"
      ],
      "execution_count": 0,
      "outputs": []
    },
    {
      "cell_type": "code",
      "metadata": {
        "id": "-qXGg9VZRrQX",
        "colab_type": "code",
        "colab": {}
      },
      "source": [
        "h = dataset['Fluency other than Eng/Fre'].value_counts()\n",
        "j=h.head(10).plot(kind='pie', figsize=(25,8), title=\"Most common language among the employes other than English and French\")\n",
        "j.set_ylabel(\"\", fontsize=20)"
      ],
      "execution_count": 0,
      "outputs": []
    },
    {
      "cell_type": "markdown",
      "metadata": {
        "id": "HdE5Yht--iqq",
        "colab_type": "text"
      },
      "source": [
        "## Let's explore the 'professional designations'"
      ]
    },
    {
      "cell_type": "code",
      "metadata": {
        "id": "bFRC81qcRrQb",
        "colab_type": "code",
        "colab": {}
      },
      "source": [
        "dataset['Professional designations'].value_counts()"
      ],
      "execution_count": 0,
      "outputs": []
    },
    {
      "cell_type": "code",
      "metadata": {
        "id": "Jyi3gyC6RrQe",
        "colab_type": "code",
        "colab": {}
      },
      "source": [
        "dataset['Functional communities'].value_counts()"
      ],
      "execution_count": 0,
      "outputs": []
    },
    {
      "cell_type": "code",
      "metadata": {
        "id": "xpPJwkr4RrQh",
        "colab_type": "code",
        "colab": {}
      },
      "source": [
        "dataset['Industry-led certifications'].value_counts()"
      ],
      "execution_count": 0,
      "outputs": []
    },
    {
      "cell_type": "code",
      "metadata": {
        "id": "iz6ijEJXRrQk",
        "colab_type": "code",
        "colab": {}
      },
      "source": [
        "new_subset=pd.DataFrame(dataset[['Job Title','Functional communities','Professional designations','Industry-led certifications']])\n",
        "new_subset"
      ],
      "execution_count": 0,
      "outputs": []
    },
    {
      "cell_type": "code",
      "metadata": {
        "id": "7QLyvYPaRrQo",
        "colab_type": "code",
        "colab": {}
      },
      "source": [
        "new_subset=new_subset.dropna(subset=['Functional communities', 'Professional designations', 'Industry-led certifications'], how='all')\n",
        "new_subset"
      ],
      "execution_count": 0,
      "outputs": []
    },
    {
      "cell_type": "code",
      "metadata": {
        "id": "yRDEbgqWRrQs",
        "colab_type": "code",
        "colab": {}
      },
      "source": [
        "new_subset.shape"
      ],
      "execution_count": 0,
      "outputs": []
    },
    {
      "cell_type": "code",
      "metadata": {
        "id": "rBy99C8eRrQw",
        "colab_type": "code",
        "colab": {}
      },
      "source": [
        "new_subset.pivot_table( 'Professional designations',['Job Title','Functional communities'], aggfunc=np.count_nonzero, fill_value=0)"
      ],
      "execution_count": 0,
      "outputs": []
    },
    {
      "cell_type": "code",
      "metadata": {
        "id": "K0gG2K45RrQz",
        "colab_type": "code",
        "colab": {}
      },
      "source": [
        "my_pivot1=new_subset.pivot_table( 'Professional designations','Job Title', aggfunc=np.count_nonzero, fill_value=0)\n",
        "my_pivot1=my_pivot1.sort_values(by='Professional designations', ascending=False)\n",
        "my_pivot1"
      ],
      "execution_count": 0,
      "outputs": []
    },
    {
      "cell_type": "markdown",
      "metadata": {
        "id": "cjhp0vdFRrQ1",
        "colab_type": "text"
      },
      "source": [
        "## Make notes about observations\n",
        "A professional designation is a 'stamp of approval' that a person can earn from an organization, demonstrating to employers and their clients that the person has achieved a particular standard of excellence in their field of work.\n",
        "\n",
        "Employees with the job title \"Administrative Assistant\" have the most professional designations when compared to other employees"
      ]
    },
    {
      "cell_type": "code",
      "metadata": {
        "id": "9sHfBAh6RrQ2",
        "colab_type": "code",
        "colab": {}
      },
      "source": [
        "my_pivot1.head(15).plot(y='Professional designations', kind='bar', figsize=(30,6), color='purple')\n",
        "plt.xlabel('Job Title', fontsize=20)\n",
        "plt.ylabel('Number of Professional designations', fontsize=20)\n",
        "plt.title('Highest Professional designation achieved',fontsize=24)"
      ],
      "execution_count": 0,
      "outputs": []
    },
    {
      "cell_type": "markdown",
      "metadata": {
        "id": "baXgBj4KRrRD",
        "colab_type": "text"
      },
      "source": [
        "## Experiment with innovative ways to show data e.g., Waffle Charts\n",
        "This waffle chart shows the proportion of each skill among the total number of skills possessed by all the employees. Ths waffle chart only includes the top 9 most popular skills."
      ]
    },
    {
      "cell_type": "code",
      "metadata": {
        "id": "W0iXSfp0RrRE",
        "colab_type": "code",
        "colab": {}
      },
      "source": [
        "waffle=pd.DataFrame(dataset['Employee skills'].value_counts())\n",
        "waffle=waffle.head(9)\n",
        "waffle"
      ],
      "execution_count": 0,
      "outputs": []
    },
    {
      "cell_type": "code",
      "metadata": {
        "id": "ZV0qMOptRrRG",
        "colab_type": "code",
        "colab": {}
      },
      "source": [
        "waffle.columns"
      ],
      "execution_count": 0,
      "outputs": []
    },
    {
      "cell_type": "code",
      "metadata": {
        "id": "x5fcQZFcRrRI",
        "colab_type": "code",
        "colab": {}
      },
      "source": [
        "waffle.rename(columns={'Employee skills':'Total'}, inplace=True)\n",
        "waffle.columns"
      ],
      "execution_count": 0,
      "outputs": []
    },
    {
      "cell_type": "code",
      "metadata": {
        "id": "mINY44nwRrRL",
        "colab_type": "code",
        "colab": {}
      },
      "source": [
        "count=waffle['Total'].sum()\n",
        "count"
      ],
      "execution_count": 0,
      "outputs": []
    },
    {
      "cell_type": "code",
      "metadata": {
        "id": "FdUBzMtARrRQ",
        "colab_type": "code",
        "colab": {}
      },
      "source": [
        "waffle"
      ],
      "execution_count": 0,
      "outputs": []
    },
    {
      "cell_type": "code",
      "metadata": {
        "id": "WJGdMMycRrRS",
        "colab_type": "code",
        "colab": {}
      },
      "source": [
        "category_proportions = [(float(value) / count) for value in waffle['Total']]\n",
        "category_proportions"
      ],
      "execution_count": 0,
      "outputs": []
    },
    {
      "cell_type": "markdown",
      "metadata": {
        "id": "neU3M-_cRrRU",
        "colab_type": "text"
      },
      "source": [
        "Importing these proportions into our waffle chart"
      ]
    },
    {
      "cell_type": "code",
      "metadata": {
        "id": "-rnHSVfoRrRV",
        "colab_type": "code",
        "colab": {}
      },
      "source": [
        "# Size of the waffle Chart\n",
        "width= 40\n",
        "height = 10\n",
        "\n",
        "Total_Tiles=width*height\n",
        "Total_Tiles"
      ],
      "execution_count": 0,
      "outputs": []
    },
    {
      "cell_type": "markdown",
      "metadata": {
        "id": "3S1ms4UYRrRZ",
        "colab_type": "text"
      },
      "source": [
        "Determining the number of tiles per employee skill"
      ]
    },
    {
      "cell_type": "code",
      "metadata": {
        "id": "KlgMcERARrRa",
        "colab_type": "code",
        "colab": {}
      },
      "source": [
        "tiles_per_category=[round(proportion*Total_Tiles) for proportion in category_proportions]\n",
        "tiles_per_category"
      ],
      "execution_count": 0,
      "outputs": []
    },
    {
      "cell_type": "code",
      "metadata": {
        "id": "T4ip2I7NRrRc",
        "colab_type": "code",
        "colab": {}
      },
      "source": [
        "#Initialize the waffle chart as an empty matrix\n",
        "waffle_chart=np.zeros((height,width))\n",
        "waffle_chart\n"
      ],
      "execution_count": 0,
      "outputs": []
    },
    {
      "cell_type": "code",
      "metadata": {
        "id": "pIOM4GUXRrRd",
        "colab_type": "code",
        "colab": {}
      },
      "source": [
        "#Define indices to loop through waffle chart\n",
        "\n",
        "category_index=0\n",
        "tile_index=0"
      ],
      "execution_count": 0,
      "outputs": []
    },
    {
      "cell_type": "code",
      "metadata": {
        "id": "7vapMBH3RrRh",
        "colab_type": "code",
        "colab": {}
      },
      "source": [
        "#Populate the waffle chart\n",
        "\n",
        "for col in range(width):\n",
        "    for row in range(height):\n",
        "        tile_index=tile_index+1\n",
        "        \n",
        "        # if the number of tiles populated for the current category is equal to its corresponding allocated tiles\n",
        "        if tile_index>sum(tiles_per_category[0:category_index]): # if this is true we will move to next category\n",
        "            category_index=category_index+1\n",
        "        # set the class value to an integer, which increases with class\n",
        "        waffle_chart[row, col] = category_index\n",
        "        \n",
        "print ('Waffle chart populated!')"
      ],
      "execution_count": 0,
      "outputs": []
    },
    {
      "cell_type": "code",
      "metadata": {
        "id": "pf74b8W6RrRj",
        "colab_type": "code",
        "colab": {}
      },
      "source": [
        "waffle_chart"
      ],
      "execution_count": 0,
      "outputs": []
    },
    {
      "cell_type": "markdown",
      "metadata": {
        "id": "YGWytARLRrRl",
        "colab_type": "text"
      },
      "source": [
        "Lets visualize our waffle chart"
      ]
    },
    {
      "cell_type": "code",
      "metadata": {
        "id": "9_4z2CeGRrRm",
        "colab_type": "code",
        "colab": {}
      },
      "source": [
        "import types\n",
        "import matplotlib as mpl\n",
        "import matplotlib.pyplot as plt\n",
        "import matplotlib.patches as mpatches # needed for waffle Charts\n",
        "\n",
        "mpl.style.use('ggplot') # optional: for ggplot-like style\n",
        "\n",
        "# check for latest version of Matplotlib\n",
        "print ('Matplotlib version: ', mpl.__version__) # >= 2.0.0\n"
      ],
      "execution_count": 0,
      "outputs": []
    },
    {
      "cell_type": "code",
      "metadata": {
        "scrolled": true,
        "id": "Hage_xBaRrRo",
        "colab_type": "code",
        "colab": {}
      },
      "source": [
        "# use matshow to display the waffle chart\n",
        "colormap = plt.cm.hsv\n",
        "plt.matshow(waffle_chart, cmap=colormap)\n",
        "plt.colorbar()\n",
        "ax = plt.gca()# get the axis\n",
        "ax.set_xticks(np.arange(-.5, (width), 1), minor=True)# set minor ticks\n",
        "ax.set_yticks(np.arange(-.5, (height), 1), minor=True)\n",
        "ax.grid(which='minor', color='w', linestyle='-', linewidth=2)# add gridlines based on minor ticks\n",
        "plt.xticks([])\n",
        "plt.yticks([])\n",
        "values_cumsum = np.cumsum(waffle['Total'])# compute cumulative sum of individual categories to match color schemes between chart and legend\n",
        "total_values = values_cumsum[len(values_cumsum) -1]\n",
        "# create legend\n",
        "legend_handles = []\n",
        "for i, category in enumerate(waffle.index.values):\n",
        "    label_str = category + ' (' + str(waffle['Total'][i]) + ')'\n",
        "    color_val = colormap(float(values_cumsum[i])/total_values)\n",
        "    #color_val = colormap(a[i])\n",
        "    legend_handles.append(mpatches.Patch(color=colormap(float(values_cumsum[i-1])/total_values), label=label_str))\n",
        "# add legend to chart\n",
        "plt.legend(handles=legend_handles, loc='lower center', ncol=len(waffle.index.values), bbox_to_anchor=(0., -0.5, 0.95, .1))\n",
        "plt.title('Proportional value chart of employee skills',fontsize=24)"
      ],
      "execution_count": 0,
      "outputs": []
    },
    {
      "cell_type": "markdown",
      "metadata": {
        "id": "-QsiK6FbBLJ3",
        "colab_type": "text"
      },
      "source": [
        "## Let's re-look at what employees are learning"
      ]
    },
    {
      "cell_type": "code",
      "metadata": {
        "id": "9Ki8K1PZBQLB",
        "colab_type": "code",
        "colab": {}
      },
      "source": [
        "dataset['LEARNING'].value_counts()"
      ],
      "execution_count": 0,
      "outputs": []
    },
    {
      "cell_type": "code",
      "metadata": {
        "id": "ZapPs0oZDStn",
        "colab_type": "code",
        "colab": {}
      },
      "source": [
        "a = dataset['LEARNING'].value_counts()#.sort_values(ascending=0)[:10]\n",
        "b=a.head(20).plot(kind='bar', figsize=(25,8), title=\"The top 20 learning skills\", color='red')\n",
        "b.set_xlabel(\"Skills\", fontsize=20)\n",
        "b.set_ylabel(\"Frequency\", fontsize=20)"
      ],
      "execution_count": 0,
      "outputs": []
    },
    {
      "cell_type": "markdown",
      "metadata": {
        "id": "tjmFAGm3XuIN",
        "colab_type": "text"
      },
      "source": [
        "## Let's drill down into the AI and Machine Learning stream"
      ]
    },
    {
      "cell_type": "code",
      "metadata": {
        "id": "r24GK86zRGCm",
        "colab_type": "code",
        "colab": {}
      },
      "source": [
        "ai_or_machinelearning = dataset.loc[(dataset.LEARNING == 'Artificial Intelligence or Machine Learning')]\n",
        "ai_or_machinelearning\n"
      ],
      "execution_count": 0,
      "outputs": []
    },
    {
      "cell_type": "markdown",
      "metadata": {
        "id": "iFRPyS0-XFB1",
        "colab_type": "text"
      },
      "source": [
        "## Let's understand what job titles are interested in AI or Machine learning.\n",
        "Are these traditionally tech roles or non-tech roles looking to upskill or reskill?"
      ]
    },
    {
      "cell_type": "code",
      "metadata": {
        "id": "SaOwHbj4Ke8y",
        "colab_type": "code",
        "colab": {}
      },
      "source": [
        "tech_subset=pd.DataFrame(ai_or_machinelearning[['Job Title','Functional communities','Professional designations','Employee skills']])\n",
        "tech_subset"
      ],
      "execution_count": 0,
      "outputs": []
    },
    {
      "cell_type": "markdown",
      "metadata": {
        "id": "edxFxsEsRrRr",
        "colab_type": "text"
      },
      "source": [
        "## Make notes about observations\n",
        "Artificial Intelligence/ Machine Learning is the second most popular topic under 'Learning'\n",
        "\n",
        "The job titles and functional communities interested in AI and Machine Learning are largely non-technical roles - is this consistent for other tech learning?"
      ]
    },
    {
      "cell_type": "code",
      "metadata": {
        "id": "CGFpwq1rYadc",
        "colab_type": "code",
        "colab": {}
      },
      "source": [
        "python_learners = dataset.loc[(dataset.LEARNING == 'Python')]\n",
        "python_subset=pd.DataFrame(python_learners[['Job Title','Functional communities','Professional designations','Employee skills']])\n",
        "python_subset"
      ],
      "execution_count": 0,
      "outputs": []
    },
    {
      "cell_type": "code",
      "metadata": {
        "id": "qpyHqileZOt1",
        "colab_type": "code",
        "colab": {}
      },
      "source": [
        "r_learners = dataset.loc[(dataset.LEARNING == 'R')]\n",
        "r_subset=pd.DataFrame(r_learners[['Job Title','Functional communities','Professional designations','Employee skills']])\n",
        "r_subset"
      ],
      "execution_count": 0,
      "outputs": []
    },
    {
      "cell_type": "markdown",
      "metadata": {
        "id": "q8iTpX7_AaJl",
        "colab_type": "text"
      },
      "source": [
        "# 5. Derive value from data\n"
      ]
    },
    {
      "cell_type": "markdown",
      "metadata": {
        "id": "PHZO8QQjGrVz",
        "colab_type": "text"
      },
      "source": [
        "## Value framework\n",
        "* Draw conclusions from the data science process.\n",
        "* Use a select number of compelling visualizations to tell the data story and include external research.\n",
        "* Make data-driven-decisions."
      ]
    },
    {
      "cell_type": "markdown",
      "metadata": {
        "id": "ozJX_TD9D7mU",
        "colab_type": "text"
      },
      "source": [
        "#Conclusion\n",
        "\n",
        "1.   Artificial Intelligence/ Machine Learning is the second most popular topic under 'Learning'. \n",
        "2.   Given the strategic importance of this topic in society, significant efforts must be made to increase capacity in this area, including bringing more employees to a literacy or 'basic' skills proficiency level.\n",
        "3. 'Hybrid' employees who are non-tech and learning tech skills may become strategically imporant in bridging the technology skills gap by performing the role of 'translator' in an organization.\n",
        "\n",
        "\n",
        "\n",
        "\n",
        "\n"
      ]
    },
    {
      "cell_type": "markdown",
      "metadata": {
        "id": "sipRcJ84f_bZ",
        "colab_type": "text"
      },
      "source": [
        "# Contact Information"
      ]
    },
    {
      "cell_type": "markdown",
      "metadata": {
        "id": "w3tU4uFDbQ3y",
        "colab_type": "text"
      },
      "source": [
        "Congratulations, you have completed a tutorial in the Python Programming language!\n",
        "\n",
        "\n",
        "\n",
        "Fireside Analytics Inc. | \n",
        "Instructor: Shingai Manjengwa (Twitter: @tjido) |\n",
        "Canada School of Public Service - Government of Canada Data Conference 2020 |\n",
        "Contact: info@firesideanalytics.com or [www.firesideanalytics.com](www.firesideanalytics.com)\n",
        "\n",
        "Never stop learning!\n",
        "\n"
      ]
    }
  ]
}